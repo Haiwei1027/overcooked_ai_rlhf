{
 "cells": [
  {
   "cell_type": "code",
   "execution_count": null,
   "id": "6cc328da",
   "metadata": {},
   "outputs": [
    {
     "name": "stderr",
     "output_type": "stream",
     "text": [
      "WARNING - PPO RLLib - No observers have been added to this run\n"
     ]
    }
   ],
   "source": [
    "from human_aware_rl.ppo.ppo_rllib_client import ex\n",
    "config_updates = {\n",
    "    \"results_dir\": \"results\",\n",
    "    \"layout_name\": \"cramped_room\",\n",
    "    \"clip_param\": 0.2,\n",
    "    'gamma': 0.9,\n",
    "    'num_training_iters': 32000,\n",
    "    'num_workers': 1,\n",
    "    'num_gpus': 0,\n",
    "    \"verbose\": False,\n",
    "    'train_batch_size': 800,\n",
    "    'sgd_minibatch_size': 800,\n",
    "    'num_sgd_iter': 1,\n",
    "    \"evaluation_interval\": 2\n",
    "}\n",
    "run = ex.run(config_updates=config_updates, options={\"--loglevel\": \"WARNING\"})"
   ]
  },
  {
   "cell_type": "code",
   "execution_count": 12,
   "id": "a9557b92",
   "metadata": {},
   "outputs": [
    {
     "data": {
      "text/plain": [
       "{'average_sparse_reward': 0.3125, 'average_total_reward': 21.51226363776494}"
      ]
     },
     "execution_count": 12,
     "metadata": {},
     "output_type": "execute_result"
    }
   ],
   "source": [
    "result = run.result\n",
    "result"
   ]
  },
  {
   "cell_type": "code",
   "execution_count": 5,
   "id": "63e4d08d",
   "metadata": {},
   "outputs": [],
   "source": [
    "from human_aware_rl.rllib.rllib import load_agent"
   ]
  },
  {
   "cell_type": "code",
   "execution_count": 6,
   "id": "8bd036b0",
   "metadata": {},
   "outputs": [
    {
     "data": {
      "text/plain": [
       "<human_aware_rl.rllib.rllib.RlLibAgent at 0x7efbd6492f90>"
      ]
     },
     "execution_count": 6,
     "metadata": {},
     "output_type": "execute_result"
    }
   ],
   "source": [
    "agent_path = \"src/overcooked_demo/server/static/assets/agents/RllibTest/agent\"\n",
    "\n",
    "ppo_agent = load_agent(agent_path,\"ppo\",0)\n",
    "ppo_agent"
   ]
  },
  {
   "cell_type": "code",
   "execution_count": 3,
   "id": "2274d697",
   "metadata": {},
   "outputs": [
    {
     "data": {
      "text/plain": [
       "[]"
      ]
     },
     "execution_count": 3,
     "metadata": {},
     "output_type": "execute_result"
    }
   ],
   "source": [
    "import tensorflow as tf\n",
    "tf.config.list_physical_devices('GPU')"
   ]
  },
  {
   "cell_type": "code",
   "execution_count": 8,
   "id": "addeee8e",
   "metadata": {},
   "outputs": [
    {
     "data": {
      "text/plain": [
       "'bsure'"
      ]
     },
     "execution_count": 8,
     "metadata": {},
     "output_type": "execute_result"
    }
   ],
   "source": [
    "import os\n",
    "conda_env = os.getenv('CONDA_DEFAULT_ENV')\n",
    "conda_env"
   ]
  },
  {
   "cell_type": "code",
   "execution_count": null,
   "id": "ff50e5c8",
   "metadata": {},
   "outputs": [],
   "source": []
  }
 ],
 "metadata": {
  "kernelspec": {
   "display_name": "Python 3 (ipykernel)",
   "language": "python",
   "name": "python3"
  },
  "language_info": {
   "codemirror_mode": {
    "name": "ipython",
    "version": 3
   },
   "file_extension": ".py",
   "mimetype": "text/x-python",
   "name": "python",
   "nbconvert_exporter": "python",
   "pygments_lexer": "ipython3",
   "version": "3.7.12"
  }
 },
 "nbformat": 4,
 "nbformat_minor": 5
}
